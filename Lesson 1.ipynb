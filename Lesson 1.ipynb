{
 "cells": [
  {
   "cell_type": "code",
   "execution_count": null,
   "metadata": {
    "collapsed": false
   },
   "outputs": [],
   "source": [
    "#######LESSON 1: BUILDING BLOCKS########\n",
    "\n",
    "# If you want to print something using the ipython notebook, you can\n",
    "# do it like this:\n",
    "print('hello world')\n",
    "\n",
    "# notice how the text is inside of 'single quotes' and that wrapped inside (parentheses)\n",
    "\n",
    "# hit Shift+Enter to execute the command from in this cell.\n",
    "# Don't worry, any line with a # in front of it is ignored by python"
   ]
  },
  {
   "cell_type": "code",
   "execution_count": null,
   "metadata": {
    "collapsed": true
   },
   "outputs": [],
   "source": [
    "# Now you try! Print what ever you want, you can even make it dirty!\n",
    "# but just make sure you use the same format as the cell above. When \n",
    "# you've finished the line, run the cell by pressing shift+Enter\n",
    "\n"
   ]
  },
  {
   "cell_type": "code",
   "execution_count": null,
   "metadata": {
    "collapsed": false
   },
   "outputs": [],
   "source": [
    "# You can also save some text to a VARIABLE so you can use it later.\n",
    "# Here is an example:\n",
    "\n",
    "a = 'hello world'\n",
    "print(a)"
   ]
  },
  {
   "cell_type": "code",
   "execution_count": null,
   "metadata": {
    "collapsed": false
   },
   "outputs": [],
   "source": [
    "# Now, let's see what happens if try to print 'hello world' but \n",
    "# we don't use the 'single quotes'\n",
    "\n",
    "print(hello world)"
   ]
  },
  {
   "cell_type": "code",
   "execution_count": null,
   "metadata": {
    "collapsed": false
   },
   "outputs": [],
   "source": [
    "# we got an ERROR. Its not very specific and it uses strange words.\n",
    "# You'll want to keep track of what errors mean somewhere on your own.\n",
    "# But you have to wait till you know what they mean. You don't really\n",
    "# know what this means yet so let's figure it out.\n",
    "\n",
    "# using the built-in type() FUNCTION will tell you the TYPE of any\n",
    "# python object.\n",
    "print(a)\n",
    "print(type(a))\n"
   ]
  },
  {
   "cell_type": "code",
   "execution_count": null,
   "metadata": {
    "collapsed": false
   },
   "outputs": [],
   "source": [
    "# so it turns out that 'hello world', or a, is a 'str', which is short for STRING.\n",
    "# STRING essentially means text. \n",
    "# So what is the TYPE of hello world?\n",
    "type(hello world)"
   ]
  },
  {
   "cell_type": "code",
   "execution_count": null,
   "metadata": {
    "collapsed": false
   },
   "outputs": [],
   "source": [
    "# Hmm, the same ERROR.\n",
    "\n",
    "# One thing to consider is the parentheses or (). In Python, () usually\n",
    "# follows a FUNCTION, and it usually contains what are called ARGUMENTS\n",
    "\n",
    "# Print is a FUNCTION, and the ARGUMENT I am giving it in the first \n",
    "# example is 'hello world'. 'hello world' is a single ARGUMENT, because\n",
    "# it is a STRING OBJECT. If we want to pass multiple ARGUMENTS, we need\n",
    "# to separate them with a comma. When we say print(hello world), python\n",
    "# doesn't know what to do with the space between hello and world, so it\n",
    "# just gives a generic ERROR. Okay, what happens if we give it a comma to\n",
    "# separate ARGUMENTS?\n",
    "\n",
    "print(hello,world)"
   ]
  },
  {
   "cell_type": "code",
   "execution_count": null,
   "metadata": {
    "collapsed": false
   },
   "outputs": [],
   "source": [
    "# Okay, that's a much more interpretable ERROR. Because hello and world are\n",
    "# written without any indicator like 'single quotes', python assumes that\n",
    "# they are VARIABLES. However, something is only a VARIABLE if it has been\n",
    "# defined. Let's define hello.\n",
    "\n",
    "hello = 'hello world'\n",
    "\n",
    "print(hello)"
   ]
  },
  {
   "cell_type": "code",
   "execution_count": null,
   "metadata": {
    "collapsed": true
   },
   "outputs": [],
   "source": [
    "## MINI EXERCISE\n",
    "\n",
    "# let's add a second argument. \n",
    "\n",
    "# Define another variable. Make it a STRING OBJECT\n",
    "\n",
    "# Now, test to make sure its the right type\n",
    "\n",
    "# Now, finally, print it!"
   ]
  },
  {
   "cell_type": "code",
   "execution_count": null,
   "metadata": {
    "collapsed": false
   },
   "outputs": [],
   "source": [
    "# there are many different object CLASSES. Let's explore a few more\n",
    "\n",
    "# For example, the number 1 can be represented using many different\n",
    "# OBJECT CLASSES.\n",
    "\n",
    "print(type(1))\n",
    "print(type(1.0))\n",
    "print(type('1'))"
   ]
  },
  {
   "cell_type": "code",
   "execution_count": null,
   "metadata": {
    "collapsed": false
   },
   "outputs": [],
   "source": [
    "# Integers and floats are two number CLASSES in Python.\n",
    "# You can use them to perform math.\n",
    "\n",
    "print(5/8)"
   ]
  },
  {
   "cell_type": "code",
   "execution_count": null,
   "metadata": {
    "collapsed": false
   },
   "outputs": [],
   "source": [
    "# Notice how the type changes between the inputs and the output:\n",
    "\n",
    "print('5 is type', type(5))\n",
    "print('8 is type',type(8))\n",
    "print('5 divided by 8 is',(5/8))\n",
    "print((5/8),'is type',type(8/5))"
   ]
  },
  {
   "cell_type": "code",
   "execution_count": null,
   "metadata": {
    "collapsed": false
   },
   "outputs": [],
   "source": [
    "# practice doing some math with Python. Python understands \n",
    "# basic commands like +, -, * , / \n",
    "# or you can do exponents like this\n",
    "\n",
    "2**4"
   ]
  },
  {
   "cell_type": "code",
   "execution_count": null,
   "metadata": {
    "collapsed": true
   },
   "outputs": [],
   "source": [
    "# go ahead try to do some math here!\n",
    "\n"
   ]
  },
  {
   "cell_type": "code",
   "execution_count": null,
   "metadata": {
    "collapsed": false
   },
   "outputs": [],
   "source": [
    "# you can also easily transfer variables from some classes or types to others.\n",
    "# you can do so using built in functions.\n",
    "\n",
    "a = '1'\n",
    "b = int(a)\n",
    "c = float(b)\n",
    "d = str(c)\n",
    "\n",
    "print(a,type(a),'\\n',\n",
    "      b,type(b),'\\n',\n",
    "      c,type(c),'\\n',\n",
    "      d,type(d))"
   ]
  },
  {
   "cell_type": "code",
   "execution_count": null,
   "metadata": {
    "collapsed": false
   },
   "outputs": [],
   "source": [
    "# different TYPES have different properties. For example, \n",
    "# they have different associated METHODS. You can see the \n",
    "# methods associated with any variable by putting a . at the\n",
    "# end of the variable and hitting the TAB key.\n",
    "\n",
    "# I will define some variables here:\n",
    "a_str = 'hello there'\n",
    "b_int = 42\n",
    "c_flt = 3.14\n",
    "\n",
    "print(type(a_str),type(b_int),type(c_flt))\n"
   ]
  },
  {
   "cell_type": "code",
   "execution_count": null,
   "metadata": {
    "collapsed": true
   },
   "outputs": [],
   "source": [
    "# now, type each variable out and try checking what methods it has\n",
    "# associated with it\n",
    "\n",
    "a_str."
   ]
  },
  {
   "cell_type": "code",
   "execution_count": null,
   "metadata": {
    "collapsed": true
   },
   "outputs": [],
   "source": [
    "# Okay great, but what do these methods do? You can usually figure\n",
    "# out what a method does by checking its DOCSTRING. Do this by\n",
    "# typing the method and then typing a ?\n",
    "\n",
    "a_str.split?"
   ]
  },
  {
   "cell_type": "code",
   "execution_count": null,
   "metadata": {
    "collapsed": false
   },
   "outputs": [],
   "source": [
    "# The docstring tells us how the method, \"split\" works. It is a FUNCTION that\n",
    "# takes ARGUMENTS. There are two ARGUMENTS, sep and maxsplit. In the docstring,\n",
    "# both arguments have = signs indicating they have DEFAULT ARGUMENTS. That \n",
    "# means if you do not pass any arguments, the function will still work.\n",
    "# Even if you pass no arguments, you still have to put the () because its\n",
    "# a FUNCTION\n",
    "print(a_str.split())"
   ]
  },
  {
   "cell_type": "code",
   "execution_count": null,
   "metadata": {
    "collapsed": false
   },
   "outputs": [],
   "source": [
    "# let's play around with this function by changing the arguments.\n",
    "\n",
    "a_str = 'I, Jake, thought teaching Python would be fun, but in fact, it is difficult'\n",
    "\n",
    "# Look what happens if we change sep to different things  \n",
    "print(a_str.split(sep=','))\n",
    "print(a_str.split(sep='Python'))\n",
    "print(a_str.split(sep='i'))\n",
    "\n",
    "# notice how the comma is in 'single quotes'. Any idea why that would be?"
   ]
  },
  {
   "cell_type": "code",
   "execution_count": null,
   "metadata": {
    "collapsed": false
   },
   "outputs": [],
   "source": [
    "# as long as you are listing arguments in order, you do not have\n",
    "# to indicate the name of the argument you are changing. Observe:\n",
    "print(a_str.split(','))"
   ]
  },
  {
   "cell_type": "code",
   "execution_count": null,
   "metadata": {
    "collapsed": false
   },
   "outputs": [],
   "source": [
    "# we can also change the other argument, \"maxsplit\"\n",
    "print(a_str.split(sep=',',maxsplit=2))\n",
    "\n",
    "# notice how this gives the same results:\n",
    "print(a_str.split(',',2))"
   ]
  },
  {
   "cell_type": "code",
   "execution_count": null,
   "metadata": {
    "collapsed": false
   },
   "outputs": [],
   "source": [
    "###### EXERCISE ######\n",
    "\n",
    "# PART A #\n",
    "# Use a python to prove that the variable we created above, c_flt,\n",
    "# is not an integer\n",
    "\n",
    "\n",
    "\n",
    "# PART B #\n",
    "# **Using only Python methods**, change the variable we created above, a_str, to\n",
    "# all upper-case letters. Then, replace my name with your name, and print it.\n",
    "\n",
    "\n"
   ]
  },
  {
   "cell_type": "code",
   "execution_count": null,
   "metadata": {
    "collapsed": true
   },
   "outputs": [],
   "source": [
    "# Don't look below until you've tried it a few times. The answers are in the next cell\n",
    "# You can always create a new cell above this one and use it a scratch space.\n",
    "# Do so by selecting this cell, hitting escape, and then hitting the a key\n",
    "#\n",
    "#\n",
    "#\n",
    "#\n",
    "#\n",
    "#\n",
    "#\n",
    "#\n",
    "#\n",
    "#\n",
    "#\n",
    "#\n",
    "#\n",
    "#\n",
    "#\n",
    "#\n",
    "#\n",
    "#\n",
    "#\n",
    "#\n",
    "#\n",
    "#\n",
    "#\n",
    "#\n",
    "#\n",
    "#\n",
    "#\n",
    "#\n",
    "#"
   ]
  },
  {
   "cell_type": "code",
   "execution_count": null,
   "metadata": {
    "collapsed": false
   },
   "outputs": [],
   "source": [
    "### ANSWERS TO EXERCISES\n",
    "\n",
    "# Part A\n",
    "print(c_flt.is_integer())\n",
    "\n",
    "# Part B\n",
    "a_str = 'I, Jake, thought teaching Python would be fun, but in fact, it is difficult'\n",
    "# capitalize\n",
    "new_var = a_str.upper()\n",
    "print(new_var)\n",
    "# replace\n",
    "print(new_var.replace('JAKE','your name'))\n",
    "\n"
   ]
  },
  {
   "cell_type": "code",
   "execution_count": null,
   "metadata": {
    "collapsed": false
   },
   "outputs": [],
   "source": [
    "# A few things to note about executing this kind of operation.\n",
    "# The first is that you can choose to save the output of functions into\n",
    "# new variables\n",
    "\n",
    "exampl = a_str.upper()\n",
    "print(a_str)\n",
    "print(exampl)"
   ]
  },
  {
   "cell_type": "code",
   "execution_count": null,
   "metadata": {
    "collapsed": false
   },
   "outputs": [],
   "source": [
    "# You can even *overwrite* a variable with the output of a function\n",
    "# that uses that same variable! This is called performing an operation\n",
    "# IN-PLACE.\n",
    "\n",
    "print(a_str)\n",
    "a_str = a_str.upper()\n",
    "print(a_str)"
   ]
  },
  {
   "cell_type": "code",
   "execution_count": null,
   "metadata": {
    "collapsed": false
   },
   "outputs": [],
   "source": [
    "# It is also worth note that, in many circumstances, you can perform multiple\n",
    "# functions using just one line. Python will compute the operations in order\n",
    "# from left to right, and will use the output of the previous operation in the\n",
    "# sequences as the input for the next operation. Observe:\n",
    "\n",
    "a_str = 'I, Jake, thought teaching Python would be fun, but in fact, it is difficult'\n",
    "\n",
    "print(a_str,type(a_str))\n",
    "\n",
    "a_str = a_str.upper().replace('JAKE','RIK').replace('TEACHING','LEARNING').split(',')\n",
    "\n",
    "print(a_str,type(a_str))\n",
    "\n",
    "# While this can save you some time and can some times make code more sparse and neat,\n",
    "# note that it can be a bit harder to read and follow."
   ]
  },
  {
   "cell_type": "code",
   "execution_count": null,
   "metadata": {
    "collapsed": false
   },
   "outputs": [],
   "source": [
    "# Notice that something else changes about the output. It is surrounded by [brackets]\n",
    "# and has several items within it, separated by commas. We check its type and find\n",
    "# out it an OBJECT of the LIST CLASS. \n",
    "\n",
    "# We can make our own list easily by encasing several items within [] and\n",
    "# separated by commas.\n",
    "\n",
    "lst = ['a','b','c','d','e']\n",
    "print(type(lst))"
   ]
  },
  {
   "cell_type": "code",
   "execution_count": null,
   "metadata": {
    "collapsed": false
   },
   "outputs": [],
   "source": [
    "# Lists also have their own set of methods\n",
    "\n",
    "lst = [5,3,2,6,4,1]\n",
    "print(lst)\n",
    "\n",
    "lst.sort()\n",
    "print(lst)\n",
    "\n",
    "lst.reverse()\n",
    "print(lst)"
   ]
  },
  {
   "cell_type": "code",
   "execution_count": null,
   "metadata": {
    "collapsed": false
   },
   "outputs": [],
   "source": [
    "# you can also easily add items to a list\n",
    "lst.append('zero')\n",
    "print(lst)\n",
    "\n",
    "# or remove items\n",
    "lst.remove('zero')\n",
    "print(lst)"
   ]
  },
  {
   "cell_type": "code",
   "execution_count": null,
   "metadata": {
    "collapsed": false
   },
   "outputs": [],
   "source": [
    "# You can even create an empty list, and then begin populating it\n",
    "# (This will become very useful later)\n",
    "\n",
    "empty_l = []\n",
    "print(empty_l)\n",
    "\n",
    "empty_l.append(5)\n",
    "empty_l.append('Five')\n",
    "empty_l.append(5.0)\n",
    "print(empty_l)"
   ]
  },
  {
   "cell_type": "code",
   "execution_count": null,
   "metadata": {
    "collapsed": false
   },
   "outputs": [],
   "source": [
    "# lists can be composed of OBJECTS of many CLASSES\n",
    "\n",
    "lst_a = [0,4,15]\n",
    "lst_b = ['I','Like', 'Bitterballen']\n",
    "lst_c = [0.5, 62.950, 0.0005]\n",
    "\n",
    "# you can also make lists of variables\n",
    "x=1\n",
    "y=2\n",
    "z=3\n",
    "lst_d = [x,y,z]\n",
    "print(lst_d)\n",
    "\n",
    "# you can even make lists composed of other lists\n",
    "lst_d = [lst_a,lst_b,lst_c]\n",
    "print(lst_d)"
   ]
  },
  {
   "cell_type": "code",
   "execution_count": null,
   "metadata": {
    "collapsed": false
   },
   "outputs": [],
   "source": [
    "# List can also be INDEXED\n",
    "\n",
    "lst_f = ['a','b','c','d','e','f','g','h','i','j','k']\n",
    "\n",
    "# To see an item at any particular INDEX, just type the name of the list\n",
    "# and then the number corresponding to item's INDEX, surrounded in\n",
    "# [square brackets]. \n",
    "# IMPORTANT!!: Python starts counting at 0, not at 1.\n",
    "\n",
    "print(lst_f[9])\n",
    "print(lst_f[0])\n",
    "print(lst_f[10])\n",
    "print(lst_f[4])"
   ]
  },
  {
   "cell_type": "code",
   "execution_count": null,
   "metadata": {
    "collapsed": false
   },
   "outputs": [],
   "source": [
    "# You can also index using negative numbers to index items starting with\n",
    "# then end of the list. For example, -1 would indicate the last item in \n",
    "# the list, -2 would be the second to last item in the list, and so forth\n",
    "\n",
    "print(lst_f[-2])\n",
    "print(lst_f[0])\n",
    "print(lst_f[-1])\n",
    "print(lst_f[4])"
   ]
  },
  {
   "cell_type": "code",
   "execution_count": null,
   "metadata": {
    "collapsed": false
   },
   "outputs": [],
   "source": [
    "# Additionally, you can index multiple objects at once using the :\n",
    "# The : kind of means \"and everything in between. So if you put the\n",
    "# : in between two numbers, you will get everything from the first \n",
    "# number to the last number, NOT INCLUDING THE LAST NUMBER!\n",
    "# This is called a SLICE.\n",
    "\n",
    "# For example, to print the 3rd, 4th, and 5th OBJECTS, I would do this: \n",
    "print(lst_f[3:6])\n",
    "\n",
    "# This also works with negative numbers\n",
    "print(lst_f[-4:-2])\n",
    "\n",
    "# Notice how the output is still an OBJECT of the LIST CLASS:\n",
    "print(type(lst_f[-4:-2]))"
   ]
  },
  {
   "cell_type": "code",
   "execution_count": null,
   "metadata": {
    "collapsed": false
   },
   "outputs": [],
   "source": [
    "# If you put the : preceded by or followed by only one number, your\n",
    "# output will include everything up until, or after, the passed index,\n",
    "# respectively\n",
    "\n",
    "# This will give me the first five objects\n",
    "print(lst_f[:5])\n",
    "\n",
    "# This will give me the last 5 objects\n",
    "print((lst_f[-5:]))\n",
    "\n",
    "# This will give me every object except the first\n",
    "print((lst_f[1:]))\n",
    "\n",
    "# And so forth"
   ]
  },
  {
   "cell_type": "code",
   "execution_count": null,
   "metadata": {
    "collapsed": true
   },
   "outputs": [],
   "source": [
    "# Go ahead and try messing around with indexing lst_f\n",
    "\n",
    "\n"
   ]
  },
  {
   "cell_type": "code",
   "execution_count": null,
   "metadata": {
    "collapsed": false
   },
   "outputs": [],
   "source": [
    "# Notice how you CANNOT index using an OBJECT, only an integer (INDEX) or a SLICE\n",
    "\n",
    "print(lst_f['a'])"
   ]
  },
  {
   "cell_type": "code",
   "execution_count": null,
   "metadata": {
    "collapsed": false
   },
   "outputs": [],
   "source": [
    "# However, you can return the INDEX of an OBJECT using the \"index\" method.\n",
    "lst_f.index('g')"
   ]
  },
  {
   "cell_type": "code",
   "execution_count": null,
   "metadata": {
    "collapsed": false
   },
   "outputs": [],
   "source": [
    "# If your list is composed of LIST OBJECTS, you can do double INDEXing.\n",
    "\n",
    "print(lst_d)\n",
    "\n",
    "# I will print the last (string) OBJECT within the second LIST OBJECT in\n",
    "# lst_d\n",
    "print(lst_d[1][-1])"
   ]
  },
  {
   "cell_type": "code",
   "execution_count": null,
   "metadata": {
    "collapsed": false
   },
   "outputs": [],
   "source": [
    "# Also note that you can set or change items in a list using INDEXING\n",
    "\n",
    "print(lst_f)\n",
    "lst_f[5] = 'q'\n",
    "print(lst_f)"
   ]
  },
  {
   "cell_type": "code",
   "execution_count": null,
   "metadata": {
    "collapsed": false
   },
   "outputs": [],
   "source": [
    "# INDEXING and SLICING are very important concepts that will come up again\n",
    "# and again. They are relevant in many OBJECT CLASSES. For example, you can\n",
    "# even INDEX or SLICE STRING OBJECTS, because they are also technically\n",
    "# SEQUENCES. \n",
    "\n",
    "# We'll make a new string variable from the LIST we created\n",
    "n_str = lst_d[1][-1]\n",
    "print(n_str)\n",
    "\n",
    "# And here, you see I can apply the same principal of slicing to this STRING\n",
    "# OBJECT\n",
    "\n",
    "print(n_str[5])\n",
    "print(n_str[:6])\n",
    "print(n_str[6:-2])\n",
    "\n"
   ]
  },
  {
   "cell_type": "code",
   "execution_count": null,
   "metadata": {
    "collapsed": false
   },
   "outputs": [],
   "source": [
    "# However, you cannot INDEX or SLICE INT or FLOAT OBJECTS\n",
    "r_int = 25402\n",
    "r_flt = 3.5402\n",
    "\n",
    "print(r_flt[2])"
   ]
  },
  {
   "cell_type": "code",
   "execution_count": null,
   "metadata": {
    "collapsed": true
   },
   "outputs": [],
   "source": [
    "###### EXERCISE ######\n",
    "\n",
    "# PART A #\n",
    "# The title of a column in your spreadsheet (col) is surrounded by \n",
    "# weird STRING OBJECTS. Extract the actual title from within the OBJECT,\n",
    "# change it to lowercase, and print it\n",
    "col = '<<<<<AMYLOID>>>>>'\n",
    "\n",
    "# PART B #\n",
    "# Make a list that includes each a STRING, INT and FLOAT OBJECT. Then,\n",
    "# print the TYPE of one of the objects in the list using INDEXING\n",
    "\n",
    "\n",
    "# PART C #\n",
    "# Using one line, take the last item in xlst below and append it to ylst.\n",
    "# Then, print the results\n",
    "xlst = ['Jake','is','a']\n",
    "ylst = ['loser','crappy teacher','ginger','world champion']\n",
    "\n",
    "# PART D #\n",
    "# Find the first ITEM in the 3rd LIST within the OBJECT called lst_d that we created above\n",
    "# Then, change that item to 100 and print lst_d\n",
    "\n",
    "# PART E #\n",
    "# Split this STRING object so that it becomes a LIST where each word is\n",
    "# an ITEM in the LIST. Then, remove the third ITEM in the LIST and print\n",
    "# the results below\n",
    "phrase = 'she cooked for her dog'"
   ]
  },
  {
   "cell_type": "code",
   "execution_count": null,
   "metadata": {
    "collapsed": false
   },
   "outputs": [],
   "source": [
    "# Don't look below until you've tried it a few times. The answers are in the next cell\n",
    "# You can always create a new cell above this one and use it as scratch space\n",
    "# If you mess up the variables, you can always rerun the cell above to reset them\n",
    "#\n",
    "#\n",
    "#\n",
    "#\n",
    "#\n",
    "#\n",
    "#\n",
    "#\n",
    "#\n",
    "#\n",
    "#\n",
    "#\n",
    "#\n",
    "#\n",
    "#\n",
    "#\n",
    "#\n",
    "#\n",
    "#\n",
    "#\n",
    "#\n",
    "#\n",
    "#\n",
    "#\n",
    "#\n",
    "#\n",
    "#\n",
    "#\n",
    "#"
   ]
  },
  {
   "cell_type": "code",
   "execution_count": null,
   "metadata": {
    "collapsed": false
   },
   "outputs": [],
   "source": [
    "# Part A\n",
    "print(col[5:12].lower())\n",
    "\n",
    "# Part B\n",
    "new_list = ['j',8,'k',3.0]\n",
    "print(type(new_list[-1]))\n",
    "\n",
    "# Part C\n",
    "xlst.append(ylst[-1])\n",
    "print(xlst)\n",
    "\n",
    "# Part D\n",
    "lst_d[-1][0] = 100\n",
    "print(lst_d)\n",
    "\n",
    "# Part E\n",
    "plist = phrase.split()\n",
    "plist.remove(plist[2])\n",
    "print(plist)\n"
   ]
  },
  {
   "cell_type": "code",
   "execution_count": null,
   "metadata": {
    "collapsed": false,
    "scrolled": true
   },
   "outputs": [],
   "source": [
    "# I will now introduce you to another OBJECT CLASS, called the TUPLE\n",
    "# You can create a TUPLE by listing an array of OBJECTS, separated by\n",
    "# commas, and the whole thing encased in (parentheses)\n",
    "tup = ('a','b')\n",
    "\n",
    "print(tup,type(tup))"
   ]
  },
  {
   "cell_type": "code",
   "execution_count": null,
   "metadata": {
    "collapsed": false
   },
   "outputs": [],
   "source": [
    "# TUPLES are sort of like lists, but they have far fewer features.\n",
    "# However, like lists, they can...\n",
    "\n",
    "# ... have many differet ITEMS within ...\n",
    "tup1 = ('a','b','c')\n",
    "print(tup1,type(tup1))\n",
    "\n",
    "# and include ITEMS of many OBJECT CLASSES\n",
    "tup2 = ('one',2,3.0)\n",
    "print(tup2,type(tup2))\n",
    "\n",
    "# ... and they can be INDEXED and SLICED\n",
    "print(tup2[-1])\n",
    "print(tup1[:2])"
   ]
  },
  {
   "cell_type": "code",
   "execution_count": null,
   "metadata": {
    "collapsed": false
   },
   "outputs": [],
   "source": [
    "# So why do we care about TUPLES? Two reasons, one simple, one complex\n",
    "\n",
    "# First, you will encounter them a lot. In fact, any SEQUENCE of OBJECTS\n",
    "# without any identifying symbols will default to a TUPLE. They will also\n",
    "# be the output of several functions\n",
    "\n",
    "x,y = 1,2\n",
    "print(x,type(x))\n",
    "print(y,type(y))\n",
    "print(x,y,type((x,y)))"
   ]
  },
  {
   "cell_type": "code",
   "execution_count": null,
   "metadata": {
    "collapsed": false
   },
   "outputs": [],
   "source": [
    "# The secound (more complicated) reason is that, unlike LISTS, TUPLES \n",
    "# are IMMUTABLE OBJECTS. It means that once a TUPLE is set, it will not\n",
    "# change unless directly overwritten. This is not the case with LISTS, \n",
    "# which are MUTABLE OBJECTS, and may change even if you do not change them\n",
    "# directly\n",
    "\n",
    "# As an example of this, I will create two lists. I will set one list to \n",
    "# equal the other list. I will then make a change to the second list, but\n",
    "# that change will ALSO HAPPEN TO THE FIRST LIST!! This is because the\n",
    "# the two lists are set as equal to one another, and are MUTABLE OBJECTS.\n",
    "\n",
    "alist = [1,2,3,4]\n",
    "print('original alist:', alist)\n",
    "\n",
    "blist = alist\n",
    "blist.append(5)\n",
    "\n",
    "print('alist:',alist)\n",
    "print('blist:',blist, '\\n')\n",
    "\n",
    "# This same phenomenon does not happen with TUPLES\n",
    "atup = (1,2,3,4)\n",
    "print('original atup:',atup)\n",
    "\n",
    "btup = atup\n",
    "btup+(5,)\n",
    "\n",
    "print('atup:', atup)\n",
    "print('btup:', btup)\n",
    "print(btup+(5,))\n",
    "\n",
    "# As you can see, not only did atup not change, but btup actually did\n",
    "# not either. The \"appending\" that we did to btup did not happen IN-PLACE.\n",
    "# In order to change btup, we'd have to redefine it, which means it would\n",
    "# not be equal to atup any more\n",
    "\n",
    "# This sort of thing can make Python very confusing sometimes, but we'll\n",
    "# cross that bridge when we come to it"
   ]
  },
  {
   "cell_type": "code",
   "execution_count": null,
   "metadata": {
    "collapsed": false
   },
   "outputs": [],
   "source": [
    "# There are several \"BUILT-IN FUNCTIONS\" that come automatically with Python.\n",
    "# We have already encountered some, including print() and type(). There are\n",
    "# also many others, which are very useful when applied to SEQUENCE OBJECTS,\n",
    "# so that includes OBJECTS of the STRING, LIST and TUPLE CLASS\n",
    "# P.S. SEQUENCE OBJECTS are also called SUBSCRIPTABLE OBJECTS\n",
    "\n",
    "xtup = (1,2,3,4,5,6,7)\n",
    "xlist = [1,2,3,4,5,6,7]\n",
    "xstr = '1234567'\n",
    "\n",
    "# len prints the length (i.e. number of items) of a sequence\n",
    "print('xtup length:',len(xtup))\n",
    "print('xstr length:',len(xstr))\n",
    "\n",
    "# max and min print the maximum and minimum values in a sequence, if \n",
    "# appropriate\n",
    "print('xlst min:',min(xstr))\n",
    "print('xstr max:',max(xtup),'\\n')\n",
    "\n",
    "# you can also convert the OBJECTS to different classes\n",
    "xtup = list(xtup)\n",
    "print('new xtup:',xtup,type(xtup))\n",
    "\n",
    "xlst = str(xlst)\n",
    "print('new xlst:',xlst,type(xlst))\n",
    "\n",
    "xstr = tuple(xstr)\n",
    "print('new xstr:',xstr,type(xstr))\n",
    "\n"
   ]
  },
  {
   "cell_type": "code",
   "execution_count": null,
   "metadata": {
    "collapsed": false
   },
   "outputs": [],
   "source": [
    "# In addition, sequence objects respond to a number of BUILT-IN FUNCTIONS\n",
    "# that can be called using mathematical operands\n",
    "\n",
    "# The + sign appends two OBJECTS of the same CLASS\n",
    "str1 = 'hi '\n",
    "str2 = 'there'\n",
    "str3 = str1+str2\n",
    "print(str3)\n",
    "\n",
    "lst1 = ['hi','there']\n",
    "lst2 = ['party','people']\n",
    "lst3 = lst1 + lst2\n",
    "print(lst3)\n",
    "\n",
    "# The * sign replicates items in a sequence\n",
    "tup1 = ('doo','bee')\n",
    "tup2 = tup1 * 4\n",
    "print(tup2)\n",
    "\n"
   ]
  },
  {
   "cell_type": "code",
   "execution_count": null,
   "metadata": {
    "collapsed": false
   },
   "outputs": [],
   "source": [
    "# It is sometimes useful to compare different sequences to one another.\n",
    "# You can do this using SET OBJECTS. SET OBJECTS are sequences with \n",
    "# properties that allow for direct comparisons. Convert an object to a\n",
    "# set by using the set() command.\n",
    "\n",
    "slst1 = ['have','a','good','day']\n",
    "slst2 = ['its','a','good','day','to','die']\n",
    "\n",
    "set1 = set(slst1)\n",
    "set2 = set(slst2)\n",
    "\n",
    "print(set1,type(set1))\n",
    "print(set2,type(set2))"
   ]
  },
  {
   "cell_type": "code",
   "execution_count": null,
   "metadata": {
    "collapsed": false
   },
   "outputs": [],
   "source": [
    "# Notice how the output is unordered. Sets naturally do not store input\n",
    "# ordering.\n",
    "\n",
    "# With sets, we can use certain operands to compare ITEMS within each set\n",
    "\n",
    "# The & sign creates a new set including elements within both sets\n",
    "print('union:',set1 & set2)\n",
    "\n",
    "# The | sign creates a new set with unique elements combined across both sets\n",
    "print('intersection:',set1 | set2)\n",
    "\n",
    "# The - sign creates a new set with elements from set A that are not in set B\n",
    "print('difference set1 to set2:',set1-set2)\n",
    "print('difference set2 to set1:',set2-set1)\n",
    "\n",
    "# The ^ sign creates a new set with elements in either set, but not both\n",
    "print('symmetric difference:',set1^set2)\n"
   ]
  },
  {
   "cell_type": "code",
   "execution_count": null,
   "metadata": {
    "collapsed": true
   },
   "outputs": [],
   "source": [
    "###### EXERCISE ######\n",
    "\n",
    "# These ones will be a bit tougher!\n",
    "\n",
    "# PART A # \n",
    "# Convert ex_b to a list object, append it to the end of ex_a, convert\n",
    "# it to a string object, and remove the [brackets] and commas so that\n",
    "# it looks like a normal phrase\n",
    "# NOTE: This one is especially hard, so feel free to come back to it later.\n",
    "# There are a few methods associated with STRING OBJECTS that\n",
    "# might help you here\n",
    "ex_a = ['it', 'aint','over','till']\n",
    "ex_b = ('it\\'s', 'over')\n",
    "\n",
    "# PART B # \n",
    "# Print an ordered version of ex_lst, as well as its length, minimum,\n",
    "# and maximum values\n",
    "ex_lst = [1,6,4,64,27,88,3,71,18,90,54,66]\n",
    "\n",
    "# PART C #\n",
    "# Discover which letters are only in ex_str1, or ex_str2, but not in both.\n",
    "# Then, using only one line, create a new STRING variable that says \"I'd \n",
    "# rather have a bottle in front of me than a frontal lobotomy\", and print it\n",
    "ex_str1 = 'a bottle in front of me'\n",
    "ex_str2 = 'a frontal lobotomy'\n",
    "\n",
    "# PART D #\n",
    "# Split the variable you created above by the word a (not the letter a!) and\n",
    "# store the variables into a tuple of three separate variables, all in one line. \n",
    "# Then, figure out which of those variables has the most unique letters"
   ]
  },
  {
   "cell_type": "code",
   "execution_count": null,
   "metadata": {
    "collapsed": true
   },
   "outputs": [],
   "source": [
    "# Don't look below until you've tried it a few times. The answers are in the next cell\n",
    "# You can always create a new cell above this one and use it as scratch space\n",
    "# If you mess up the variables, you can always rerun the cell above to reset them\n",
    "#\n",
    "#\n",
    "#\n",
    "#\n",
    "#\n",
    "#\n",
    "#\n",
    "#\n",
    "#\n",
    "#\n",
    "#\n",
    "#\n",
    "#\n",
    "#\n",
    "#\n",
    "#\n",
    "#\n",
    "#\n",
    "#\n",
    "#\n",
    "#\n",
    "#\n",
    "#\n",
    "#\n",
    "#\n",
    "#\n",
    "#\n",
    "#\n",
    "#"
   ]
  },
  {
   "cell_type": "code",
   "execution_count": null,
   "metadata": {
    "collapsed": false
   },
   "outputs": [],
   "source": [
    "# ANSWERS TO EXERCISES\n",
    "\n",
    "# Part A\n",
    "# convert ex_b to list, append to ex_a, and save as a variable\n",
    "new_lst = ex_a + list(ex_b)\n",
    "# convert new variable to a string, save as a new variable\n",
    "new_str = str(new_lst)\n",
    "# replace unwanted characters with nothing, indicated with ''\n",
    "# make sure to save as a new variable each time\n",
    "new_str = new_str.replace(',','')\n",
    "new_str = new_str.replace('\\'','')\n",
    "new_str = new_str.replace('\"','')\n",
    "new_str = new_str.rstrip(']')\n",
    "new_str = new_str.lstrip('[')\n",
    "print(new_str)\n",
    "\n",
    "# Part B\n",
    "# sort ex_lst in place\n",
    "ex_lst.sort()\n",
    "# print ex_lst, as well as its length, min and max\n",
    "print(ex_lst)\n",
    "print(len(ex_lst),min(ex_lst),max(ex_lst))\n",
    "\n",
    "# Part C\n",
    "# Find out what letters are found in ex_str1 and ex_str2, but not in both\n",
    "print(set(ex_str1) ^ set(ex_str2))\n",
    "# Using one line, make the 'Id rather have a bottle in front of me than...\n",
    "newvar = 'Id rather have '+ex_str1+' than '+ex_str2\n",
    "print(newvar)\n",
    "\n",
    "# Part D\n",
    "# Using one line, split newvar by the word \"a\" and store it into three \n",
    "# separate variables\n",
    "a,b,c = newvar.split(' a ')\n",
    "print(a)\n",
    "print(b)\n",
    "print(c)\n",
    "# Figure out which variable has the most unique letters\n",
    "print(len(set(a)-set(b)),\n",
    "      len(set(b)-set(a)),\n",
    "      len(set(a)-set(c)),\n",
    "      len(set(c)-set(a)),\n",
    "      len(set(b)-set(c)),\n",
    "      len(set(c)-set(b)))\n",
    "print('b and c both have 7 unique letters compared to a')\n",
    "print('but b has 3 unique letter compared to c, and c only has 1 compared to a')\n",
    "print('b has the most unique letters')\n",
    "\n"
   ]
  },
  {
   "cell_type": "code",
   "execution_count": null,
   "metadata": {
    "collapsed": false
   },
   "outputs": [],
   "source": [
    "# The last thing we'll learn about in this lesson are DICTIONARIES. In other languages,\n",
    "# these are sometimes known has \"hash tables\". They are sort of like lists, but \n",
    "# each index has its own title, which is called a KEY. In this manner, many\n",
    "# types of variables (in this case, called VALUES) can be stored, and can be \n",
    "# referenced using the corresponding KEY\n",
    "\n",
    "# DICTIONARIES, or DICTS, have many specific qualities. A dictionary must be \n",
    "# created using {curly brackets}. Each KEY/VALUE pair is set with this format: \n",
    "# KEY: VALUE, and each pair is separated by commas.\n",
    "\n",
    "# Here, I will create a dictionary where each VALUE is a LIST OBJECT, and each\n",
    "# KEY is a STRING OBJECT that refers to CLASS of the OBJECTS within that LIST\n",
    "dict_a = {'ints': lst_d[0],'strings': lst_d[1], 'floats': lst_d[2] }\n",
    "\n",
    "print(dict_a)\n",
    "print(type(dict_a))"
   ]
  },
  {
   "cell_type": "code",
   "execution_count": null,
   "metadata": {
    "collapsed": false
   },
   "outputs": [],
   "source": [
    "# Notice how the KEY/VALUE pairs are out of order when I print the dictionary.\n",
    "# This is because dictionaries are unordered by definition. They have no order\n",
    "# encoded when they are saved. This is important to remember for later.\n",
    "\n",
    "# You can return any value of a DICT with a concept called HASHING, which \n",
    "# is very similar to INDEXING with LISTS OBJECTS. To do this, you type the\n",
    "# name of the DICT, followed by [square brackets], within which you put the KEY\n",
    "# for the VALUE you wish to return.\n",
    "\n",
    "print(dict_a['strings'])\n"
   ]
  },
  {
   "cell_type": "code",
   "execution_count": null,
   "metadata": {
    "collapsed": false
   },
   "outputs": [],
   "source": [
    "# This is the only way to return VALUES within a DICT. Because DICTS are unordered,\n",
    "# you cannot call them by index\n",
    "print(dict_a[2])"
   ]
  },
  {
   "cell_type": "code",
   "execution_count": null,
   "metadata": {
    "collapsed": false
   },
   "outputs": [],
   "source": [
    "# The command returns a \"KeyError\". What this basically means is, I tried to look\n",
    "# for a KEY called 2, but I could not find it, so I don't know what to do.\n",
    "\n",
    "# You can always return the KEYS of a DICT by using the \"keys\" method.\n",
    "print(dict_a.keys())\n"
   ]
  },
  {
   "cell_type": "code",
   "execution_count": null,
   "metadata": {
    "collapsed": false
   },
   "outputs": [],
   "source": [
    "# In order to add ITEMS to a DICT, you use the \"update\" method. Anything added\n",
    "# to a DICT must be encased in {curly brackets}.\n",
    "\n",
    "dict_a.update({'letters': ['x','y','z']})\n",
    "print(dict_a)"
   ]
  },
  {
   "cell_type": "code",
   "execution_count": null,
   "metadata": {
    "collapsed": false
   },
   "outputs": [],
   "source": [
    "# Updating is not like appending. If you update a DICT with an existing KEY, \n",
    "# the VALUE indexed by that KEY will be overwritten and replaced with the new\n",
    "# VALUE.\n",
    "\n",
    "dict_a.update({'letters': ['a','b','c']})\n",
    "print(dict_a)"
   ]
  },
  {
   "cell_type": "code",
   "execution_count": null,
   "metadata": {
    "collapsed": false
   },
   "outputs": [],
   "source": [
    "# KEYS and VALUES can be a multitude of different types\n",
    "\n",
    "dict_b = {1: 'one', 'two': 2.0, 3.0: 3,(4,4):[4,4]}\n",
    "\n",
    "print(dict_b)\n",
    "\n",
    "print(dict_b[3.0])\n",
    "print(dict_b[(4,4)])"
   ]
  },
  {
   "cell_type": "code",
   "execution_count": null,
   "metadata": {
    "collapsed": true
   },
   "outputs": [],
   "source": [
    "#### EXERCISES ####\n",
    "\n",
    "# PART 1 #\n",
    "# Create a new dictionary with at least 3 KEY/VALUE pairs, and\n",
    "# prove it is an ITEM of the DICTIONARY CLASS\n",
    "\n",
    "# PART 2 #\n",
    "# Update the variable we created above, dict_b, so that the ITEM\n",
    "# indexed by the KEY (4,4) is 'xxx'. Then, use the KEY to call\n",
    "# the new VALUE you just updated.\n",
    "\n"
   ]
  },
  {
   "cell_type": "code",
   "execution_count": null,
   "metadata": {
    "collapsed": false
   },
   "outputs": [],
   "source": [
    "# Don't look below until you've tried it a few times. The answers are in the next cell\n",
    "# You can always create a new cell above this one and use it as scratch space\n",
    "# If you mess up the variables, you can always rerun the cell above to reset them\n",
    "#\n",
    "#\n",
    "#\n",
    "#\n",
    "#\n",
    "#\n",
    "#\n",
    "#\n",
    "#\n",
    "#\n",
    "#\n",
    "#\n",
    "#\n",
    "#\n",
    "#\n",
    "#\n",
    "#\n",
    "#\n",
    "#\n",
    "#\n",
    "#\n",
    "#\n",
    "#\n",
    "#\n",
    "#\n",
    "#\n",
    "#\n",
    "#\n",
    "#"
   ]
  },
  {
   "cell_type": "code",
   "execution_count": null,
   "metadata": {
    "collapsed": false
   },
   "outputs": [],
   "source": [
    "## ANSWERS TO EXERCISES ##\n",
    "\n",
    "# PART 1 #\n",
    "# Create a new dictionary with at least 3 KEY/VALUE pairs\n",
    "new_dict = {1:'I\\'m',2:'a',3:'dictionary'}\n",
    "# prove it is an ITEM of the DICTIONARY CLASS\n",
    "print(type(new_dict))\n",
    "\n",
    "# PART 2 #\n",
    "# Update the variable we created above, dict_b, so that the ITEM\n",
    "# indexed by the KEY (4,4) is 'xxx'. \n",
    "dict_b.update({(4,4): 'xxx'})\n",
    "# Use the KEY to call the new VALUE you just updated\n",
    "print(dict_b[(4,4)])\n"
   ]
  },
  {
   "cell_type": "code",
   "execution_count": null,
   "metadata": {
    "collapsed": true
   },
   "outputs": [],
   "source": []
  }
 ],
 "metadata": {
  "anaconda-cloud": {},
  "kernelspec": {
   "display_name": "Python [conda env:py3]",
   "language": "python",
   "name": "conda-env-py3-py"
  },
  "language_info": {
   "codemirror_mode": {
    "name": "ipython",
    "version": 3
   },
   "file_extension": ".py",
   "mimetype": "text/x-python",
   "name": "python",
   "nbconvert_exporter": "python",
   "pygments_lexer": "ipython3",
   "version": "3.5.2"
  }
 },
 "nbformat": 4,
 "nbformat_minor": 1
}
